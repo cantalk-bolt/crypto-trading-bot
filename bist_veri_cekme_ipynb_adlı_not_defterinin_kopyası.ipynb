{
  "cells": [
    {
      "cell_type": "markdown",
      "metadata": {
        "id": "view-in-github",
        "colab_type": "text"
      },
      "source": [
        "<a href=\"https://colab.research.google.com/github/cantalk-bolt/crypto-trading-bot/blob/main/bist_veri_cekme_ipynb_adl%C4%B1_not_defterinin_kopyas%C4%B1.ipynb\" target=\"_parent\"><img src=\"https://colab.research.google.com/assets/colab-badge.svg\" alt=\"Open In Colab\"/></a>"
      ]
    },
    {
      "cell_type": "markdown",
      "metadata": {
        "id": "rX8mhOLljYeM"
      },
      "source": [
        "##### Copyright 2019 The TensorFlow Authors."
      ]
    },
    {
      "cell_type": "code",
      "execution_count": null,
      "metadata": {
        "id": "BZSlp3DAjdYf",
        "colab": {
          "base_uri": "https://localhost:8080/"
        },
        "outputId": "5c5f326c-e13d-4776-b4b7-0a7b06d20f3b"
      },
      "outputs": [
        {
          "output_type": "stream",
          "name": "stdout",
          "text": [
            "  Preparing metadata (setup.py) ... \u001b[?25l\u001b[?25hdone\n"
          ]
        },
        {
          "output_type": "stream",
          "name": "stderr",
          "text": [
            "WARNING:tvDatafeed.main:you are using nologin method, data you access may be limited\n"
          ]
        },
        {
          "output_type": "stream",
          "name": "stdout",
          "text": [
            "A1CAP - Son Fiyat: 5.08 - Dip Sinyali: False\n",
            "ACSEL - Son Fiyat: 108.60 - Dip Sinyali: False\n",
            "ADEL - Son Fiyat: 31.88 - Dip Sinyali: True\n",
            "ADESE - Son Fiyat: 2.61 - Dip Sinyali: False\n",
            "ADGYO - Son Fiyat: 28.94 - Dip Sinyali: False\n",
            "AEFES - Son Fiyat: 151.30 - Dip Sinyali: False\n",
            "AFYON - Son Fiyat: 13.41 - Dip Sinyali: False\n",
            "AGESA - Son Fiyat: 141.80 - Dip Sinyali: False\n",
            "AGHOL - Son Fiyat: 276.25 - Dip Sinyali: False\n",
            "AGROT - Son Fiyat: 8.26 - Dip Sinyali: False\n",
            "AGYO - Son Fiyat: 6.20 - Dip Sinyali: False\n",
            "AHGAZ - Son Fiyat: 22.10 - Dip Sinyali: False\n",
            "AHSGY - Son Fiyat: 20.88 - Dip Sinyali: True\n",
            "AKBNK - Son Fiyat: 49.28 - Dip Sinyali: False\n",
            "AKCNS - Son Fiyat: 148.70 - Dip Sinyali: False\n",
            "AKENR - Son Fiyat: 12.68 - Dip Sinyali: False\n",
            "AKFGY - Son Fiyat: 2.17 - Dip Sinyali: False\n",
            "AKGRT - Son Fiyat: 6.12 - Dip Sinyali: False\n",
            "AKMGY - Son Fiyat: 200.00 - Dip Sinyali: False\n",
            "AKSA - Son Fiyat: 9.42 - Dip Sinyali: False\n",
            "AKSEN - Son Fiyat: 31.82 - Dip Sinyali: False\n",
            "AKSGY - Son Fiyat: 6.23 - Dip Sinyali: False\n",
            "AKYHO - Son Fiyat: 3.06 - Dip Sinyali: False\n",
            "ALARK - Son Fiyat: 86.70 - Dip Sinyali: False\n",
            "ALBRK - Son Fiyat: 6.24 - Dip Sinyali: False\n",
            "ALCAR - Son Fiyat: 1009.00 - Dip Sinyali: False\n",
            "ALCTL - Son Fiyat: 102.00 - Dip Sinyali: False\n",
            "ALGYO - Son Fiyat: 17.53 - Dip Sinyali: True\n",
            "ALKA - Son Fiyat: 6.57 - Dip Sinyali: False\n",
            "ALKIM - Son Fiyat: 15.21 - Dip Sinyali: False\n",
            "ALMAD - Son Fiyat: 9.63 - Dip Sinyali: False\n"
          ]
        },
        {
          "output_type": "stream",
          "name": "stderr",
          "text": [
            "ERROR:tvDatafeed.main:Connection timed out\n",
            "ERROR:tvDatafeed.main:no data, please check the exchange and symbol\n",
            "ERROR:tvDatafeed.main:Connection timed out\n",
            "ERROR:tvDatafeed.main:no data, please check the exchange and symbol\n",
            "ERROR:tvDatafeed.main:Connection timed out\n",
            "ERROR:tvDatafeed.main:no data, please check the exchange and symbol\n"
          ]
        },
        {
          "output_type": "stream",
          "name": "stdout",
          "text": [
            "ANELE - Son Fiyat: 15.76 - Dip Sinyali: False\n",
            "ANGEN - Son Fiyat: 10.95 - Dip Sinyali: False\n",
            "ANHYT - Son Fiyat: 78.60 - Dip Sinyali: False\n",
            "ANSGR - Son Fiyat: 90.10 - Dip Sinyali: False\n",
            "ARASE - Son Fiyat: 43.40 - Dip Sinyali: False\n",
            "ARCLK - Son Fiyat: 116.00 - Dip Sinyali: False\n",
            "ARDYZ - Son Fiyat: 25.66 - Dip Sinyali: False\n",
            "ARENA - Son Fiyat: 46.22 - Dip Sinyali: False\n"
          ]
        },
        {
          "output_type": "stream",
          "name": "stderr",
          "text": [
            "ERROR:tvDatafeed.main:Connection timed out\n",
            "ERROR:tvDatafeed.main:no data, please check the exchange and symbol\n"
          ]
        },
        {
          "output_type": "stream",
          "name": "stdout",
          "text": [
            "ARSAN - Son Fiyat: 19.48 - Dip Sinyali: False\n",
            "ARTMS - Son Fiyat: 29.66 - Dip Sinyali: False\n",
            "ARZUM - Son Fiyat: 3.13 - Dip Sinyali: False\n",
            "ASELS - Son Fiyat: 151.30 - Dip Sinyali: False\n",
            "ASGYO - Son Fiyat: 10.17 - Dip Sinyali: False\n",
            "ASUZU - Son Fiyat: 56.05 - Dip Sinyali: False\n",
            "ATAGY - Son Fiyat: 11.70 - Dip Sinyali: False\n",
            "ATATP - Son Fiyat: 80.60 - Dip Sinyali: False\n",
            "ATEKS - Son Fiyat: 89.90 - Dip Sinyali: False\n",
            "ATLAS - Son Fiyat: 5.19 - Dip Sinyali: False\n",
            "ATSYH - Son Fiyat: 43.74 - Dip Sinyali: False\n",
            "AVHOL - Son Fiyat: 38.60 - Dip Sinyali: False\n",
            "AVGYO - Son Fiyat: 8.91 - Dip Sinyali: False\n",
            "AVOD - Son Fiyat: 2.75 - Dip Sinyali: True\n",
            "AVTUR - Son Fiyat: 11.19 - Dip Sinyali: False\n",
            "AYCES - Son Fiyat: 427.00 - Dip Sinyali: False\n",
            "AYDEM - Son Fiyat: 16.30 - Dip Sinyali: False\n",
            "AYEN - Son Fiyat: 25.36 - Dip Sinyali: False\n",
            "AYES - Son Fiyat: 8.99 - Dip Sinyali: False\n",
            "AYGAZ - Son Fiyat: 128.80 - Dip Sinyali: False\n",
            "AZTEK - Son Fiyat: 40.26 - Dip Sinyali: False\n",
            "BAGFS - Son Fiyat: 28.76 - Dip Sinyali: False\n",
            "BAKAB - Son Fiyat: 32.08 - Dip Sinyali: False\n",
            "BALAT - Son Fiyat: 50.00 - Dip Sinyali: False\n",
            "BANVT - Son Fiyat: 220.50 - Dip Sinyali: False\n",
            "BARMA - Son Fiyat: 18.17 - Dip Sinyali: False\n",
            "BASCM - Son Fiyat: 9.20 - Dip Sinyali: False\n",
            "BASGZ - Son Fiyat: 31.18 - Dip Sinyali: False\n",
            "BAYRK - Son Fiyat: 18.81 - Dip Sinyali: False\n",
            "BERA - Son Fiyat: 15.15 - Dip Sinyali: False\n"
          ]
        },
        {
          "output_type": "stream",
          "name": "stderr",
          "text": [
            "ERROR:tvDatafeed.main:Connection timed out\n",
            "ERROR:tvDatafeed.main:no data, please check the exchange and symbol\n"
          ]
        },
        {
          "output_type": "stream",
          "name": "stdout",
          "text": [
            "BEYAZ - Son Fiyat: 22.78 - Dip Sinyali: False\n",
            "BFREN - Son Fiyat: 185.60 - Dip Sinyali: False\n"
          ]
        },
        {
          "output_type": "stream",
          "name": "stderr",
          "text": [
            "ERROR:tvDatafeed.main:Connection timed out\n",
            "ERROR:tvDatafeed.main:no data, please check the exchange and symbol\n"
          ]
        },
        {
          "output_type": "stream",
          "name": "stdout",
          "text": [
            "BIMAS - Son Fiyat: 468.25 - Dip Sinyali: False\n",
            "BIOEN - Son Fiyat: 20.26 - Dip Sinyali: False\n",
            "BIZIM - Son Fiyat: 24.88 - Dip Sinyali: False\n",
            "BJKAS - Son Fiyat: 1.98 - Dip Sinyali: False\n",
            "BLCYT - Son Fiyat: 15.13 - Dip Sinyali: False\n"
          ]
        },
        {
          "output_type": "stream",
          "name": "stderr",
          "text": [
            "ERROR:tvDatafeed.main:Connection timed out\n",
            "ERROR:tvDatafeed.main:no data, please check the exchange and symbol\n"
          ]
        },
        {
          "output_type": "stream",
          "name": "stdout",
          "text": [
            "BMSCH - Son Fiyat: 11.25 - Dip Sinyali: False\n",
            "BMSTL - Son Fiyat: 47.38 - Dip Sinyali: False\n",
            "BNTAS - Son Fiyat: 7.43 - Dip Sinyali: False\n",
            "BOBET - Son Fiyat: 24.84 - Dip Sinyali: False\n",
            "BOSSA - Son Fiyat: 6.16 - Dip Sinyali: True\n",
            "BRISA - Son Fiyat: 77.70 - Dip Sinyali: False\n",
            "BRKSN - Son Fiyat: 21.24 - Dip Sinyali: False\n",
            "BRLSM - Son Fiyat: 19.23 - Dip Sinyali: False\n",
            "BRMEN - Son Fiyat: 5.40 - Dip Sinyali: False\n",
            "BRYAT - Son Fiyat: 1966.00 - Dip Sinyali: False\n",
            "BSOKE - Son Fiyat: 21.70 - Dip Sinyali: False\n",
            "BTCIM - Son Fiyat: 5.57 - Dip Sinyali: False\n",
            "BUCIM - Son Fiyat: 7.54 - Dip Sinyali: True\n"
          ]
        },
        {
          "output_type": "stream",
          "name": "stderr",
          "text": [
            "ERROR:tvDatafeed.main:Connection timed out\n",
            "ERROR:tvDatafeed.main:no data, please check the exchange and symbol\n"
          ]
        },
        {
          "output_type": "stream",
          "name": "stdout",
          "text": [
            "BURCE - Son Fiyat: 13.97 - Dip Sinyali: True\n",
            "BURVA - Son Fiyat: 98.15 - Dip Sinyali: True\n",
            "CANTE - Son Fiyat: 1.60 - Dip Sinyali: True\n"
          ]
        },
        {
          "output_type": "stream",
          "name": "stderr",
          "text": [
            "ERROR:tvDatafeed.main:Connection timed out\n",
            "ERROR:tvDatafeed.main:no data, please check the exchange and symbol\n"
          ]
        },
        {
          "output_type": "stream",
          "name": "stdout",
          "text": [
            "CASA - Son Fiyat: 104.60 - Dip Sinyali: False\n",
            "CCOLA - Son Fiyat: 50.55 - Dip Sinyali: False\n",
            "CELHA - Son Fiyat: 20.72 - Dip Sinyali: False\n",
            "CEMAS - Son Fiyat: 9.05 - Dip Sinyali: False\n",
            "CEMTS - Son Fiyat: 14.47 - Dip Sinyali: False\n",
            "CIMSA - Son Fiyat: 46.20 - Dip Sinyali: False\n",
            "CMENT - Son Fiyat: 340.00 - Dip Sinyali: False\n",
            "CMBTN - Son Fiyat: 2261.00 - Dip Sinyali: False\n",
            "COSMO - Son Fiyat: 105.30 - Dip Sinyali: False\n",
            "CRDFA - Son Fiyat: 12.87 - Dip Sinyali: False\n",
            "CRFSA - Son Fiyat: 79.05 - Dip Sinyali: False\n",
            "CUSAN - Son Fiyat: 21.16 - Dip Sinyali: True\n",
            "CWENE - Son Fiyat: 16.80 - Dip Sinyali: False\n",
            "DAPGM - Son Fiyat: 8.17 - Dip Sinyali: False\n",
            "DARDL - Son Fiyat: 4.72 - Dip Sinyali: False\n",
            "DENGE - Son Fiyat: 1.83 - Dip Sinyali: False\n",
            "DERHL - Son Fiyat: 126.70 - Dip Sinyali: False\n",
            "DERIM - Son Fiyat: 37.66 - Dip Sinyali: False\n",
            "DESA - Son Fiyat: 8.88 - Dip Sinyali: False\n",
            "DEVA - Son Fiyat: 59.85 - Dip Sinyali: False\n",
            "DGATE - Son Fiyat: 72.35 - Dip Sinyali: False\n",
            "DGGYO - Son Fiyat: 33.18 - Dip Sinyali: False\n"
          ]
        },
        {
          "output_type": "stream",
          "name": "stderr",
          "text": [
            "ERROR:tvDatafeed.main:Connection timed out\n",
            "ERROR:tvDatafeed.main:no data, please check the exchange and symbol\n"
          ]
        },
        {
          "output_type": "stream",
          "name": "stdout",
          "text": [
            "DGNMO - Son Fiyat: 6.74 - Dip Sinyali: False\n"
          ]
        },
        {
          "output_type": "stream",
          "name": "stderr",
          "text": [
            "ERROR:tvDatafeed.main:Connection timed out\n",
            "ERROR:tvDatafeed.main:no data, please check the exchange and symbol\n",
            "ERROR:tvDatafeed.main:Connection timed out\n",
            "ERROR:tvDatafeed.main:no data, please check the exchange and symbol\n",
            "ERROR:tvDatafeed.main:Connection timed out\n",
            "ERROR:tvDatafeed.main:no data, please check the exchange and symbol\n",
            "ERROR:tvDatafeed.main:Connection timed out\n",
            "ERROR:tvDatafeed.main:no data, please check the exchange and symbol\n",
            "ERROR:tvDatafeed.main:Connection timed out\n",
            "ERROR:tvDatafeed.main:no data, please check the exchange and symbol\n"
          ]
        },
        {
          "output_type": "stream",
          "name": "stdout",
          "text": [
            "DIRIT - Son Fiyat: 19.40 - Dip Sinyali: False\n",
            "DITAS - Son Fiyat: 12.14 - Dip Sinyali: False\n",
            "DNISI - Son Fiyat: 21.80 - Dip Sinyali: False\n",
            "DOAS - Son Fiyat: 206.40 - Dip Sinyali: False\n",
            "DOBUR - Son Fiyat: 295.25 - Dip Sinyali: False\n",
            "DOGUB - Son Fiyat: 16.51 - Dip Sinyali: False\n",
            "DOHOL - Son Fiyat: 14.50 - Dip Sinyali: False\n"
          ]
        },
        {
          "output_type": "stream",
          "name": "stderr",
          "text": [
            "ERROR:tvDatafeed.main:Connection timed out\n",
            "ERROR:tvDatafeed.main:no data, please check the exchange and symbol\n"
          ]
        },
        {
          "output_type": "stream",
          "name": "stdout",
          "text": [
            "DURDO - Son Fiyat: 3.29 - Dip Sinyali: False\n",
            "DYOBY - Son Fiyat: 14.70 - Dip Sinyali: False\n",
            "DZGYO - Son Fiyat: 6.35 - Dip Sinyali: False\n",
            "ECILC - Son Fiyat: 48.56 - Dip Sinyali: False\n",
            "ECZYT - Son Fiyat: 194.40 - Dip Sinyali: False\n",
            "EDATA - Son Fiyat: 4.21 - Dip Sinyali: False\n",
            "EDIP - Son Fiyat: 40.84 - Dip Sinyali: False\n",
            "EGEEN - Son Fiyat: 8885.00 - Dip Sinyali: False\n",
            "EGGUB - Son Fiyat: 71.40 - Dip Sinyali: False\n",
            "EGPRO - Son Fiyat: 22.98 - Dip Sinyali: False\n",
            "EGSER - Son Fiyat: 3.22 - Dip Sinyali: False\n"
          ]
        },
        {
          "output_type": "stream",
          "name": "stderr",
          "text": [
            "ERROR:tvDatafeed.main:Connection timed out\n",
            "ERROR:tvDatafeed.main:no data, please check the exchange and symbol\n"
          ]
        },
        {
          "output_type": "stream",
          "name": "stdout",
          "text": [
            "EKGYO - Son Fiyat: 12.51 - Dip Sinyali: False\n",
            "EKIZ - Son Fiyat: 57.10 - Dip Sinyali: False\n",
            "ELITE - Son Fiyat: 43.34 - Dip Sinyali: False\n"
          ]
        },
        {
          "output_type": "stream",
          "name": "stderr",
          "text": [
            "ERROR:tvDatafeed.main:Connection timed out\n",
            "ERROR:tvDatafeed.main:no data, please check the exchange and symbol\n"
          ]
        },
        {
          "output_type": "stream",
          "name": "stdout",
          "text": [
            "EMKEL - Son Fiyat: 30.26 - Dip Sinyali: False\n",
            "EMNIS - Son Fiyat: 331.50 - Dip Sinyali: False\n",
            "ENKAI - Son Fiyat: 67.75 - Dip Sinyali: False\n",
            "ENJSA - Son Fiyat: 54.40 - Dip Sinyali: False\n",
            "ENSRI - Son Fiyat: 19.31 - Dip Sinyali: False\n",
            "EPLAS - Son Fiyat: 5.05 - Dip Sinyali: False\n",
            "ERBOS - Son Fiyat: 157.30 - Dip Sinyali: True\n",
            "EREGL - Son Fiyat: 23.88 - Dip Sinyali: False\n",
            "ERSU - Son Fiyat: 15.90 - Dip Sinyali: False\n",
            "ESCAR - Son Fiyat: 73.65 - Dip Sinyali: False\n",
            "ESCOM - Son Fiyat: 2.83 - Dip Sinyali: False\n",
            "ESEN - Son Fiyat: 45.10 - Dip Sinyali: False\n"
          ]
        },
        {
          "output_type": "stream",
          "name": "stderr",
          "text": [
            "ERROR:tvDatafeed.main:Connection timed out\n",
            "ERROR:tvDatafeed.main:no data, please check the exchange and symbol\n"
          ]
        },
        {
          "output_type": "stream",
          "name": "stdout",
          "text": [
            "ETILR - Son Fiyat: 10.14 - Dip Sinyali: False\n",
            "EUHOL - Son Fiyat: 10.42 - Dip Sinyali: False\n",
            "EUKYO - Son Fiyat: 11.10 - Dip Sinyali: False\n",
            "EYGYO - Son Fiyat: 2.41 - Dip Sinyali: False\n",
            "FADE - Son Fiyat: 14.03 - Dip Sinyali: False\n",
            "FENER - Son Fiyat: 51.20 - Dip Sinyali: False\n"
          ]
        },
        {
          "output_type": "stream",
          "name": "stderr",
          "text": [
            "ERROR:tvDatafeed.main:Connection timed out\n",
            "ERROR:tvDatafeed.main:no data, please check the exchange and symbol\n"
          ]
        },
        {
          "output_type": "stream",
          "name": "stdout",
          "text": [
            "FLAP - Son Fiyat: 7.65 - Dip Sinyali: False\n"
          ]
        },
        {
          "output_type": "stream",
          "name": "stderr",
          "text": [
            "ERROR:tvDatafeed.main:Connection timed out\n",
            "ERROR:tvDatafeed.main:no data, please check the exchange and symbol\n"
          ]
        },
        {
          "output_type": "stream",
          "name": "stdout",
          "text": [
            "FMIZP - Son Fiyat: 311.00 - Dip Sinyali: False\n",
            "FONET - Son Fiyat: 15.24 - Dip Sinyali: False\n",
            "FORMT - Son Fiyat: 6.47 - Dip Sinyali: False\n",
            "FORTE - Son Fiyat: 66.40 - Dip Sinyali: False\n",
            "FRIGO - Son Fiyat: 6.98 - Dip Sinyali: False\n",
            "FROTO - Son Fiyat: 91.30 - Dip Sinyali: False\n",
            "FZLGY - Son Fiyat: 33.64 - Dip Sinyali: False\n",
            "GARAN - Son Fiyat: 100.40 - Dip Sinyali: True\n"
          ]
        },
        {
          "output_type": "stream",
          "name": "stderr",
          "text": [
            "ERROR:tvDatafeed.main:Connection timed out\n",
            "ERROR:tvDatafeed.main:no data, please check the exchange and symbol\n"
          ]
        },
        {
          "output_type": "stream",
          "name": "stdout",
          "text": [
            "GEDIK - Son Fiyat: 8.33 - Dip Sinyali: False\n",
            "GEDZA - Son Fiyat: 22.42 - Dip Sinyali: True\n",
            "GENTS - Son Fiyat: 25.76 - Dip Sinyali: False\n",
            "GEREL - Son Fiyat: 9.16 - Dip Sinyali: False\n",
            "GESAN - Son Fiyat: 40.90 - Dip Sinyali: False\n",
            "GIPTA - Son Fiyat: 77.00 - Dip Sinyali: False\n",
            "GLBMD - Son Fiyat: 10.63 - Dip Sinyali: False\n",
            "GLRYH - Son Fiyat: 2.95 - Dip Sinyali: False\n",
            "GLYHO - Son Fiyat: 7.62 - Dip Sinyali: False\n"
          ]
        },
        {
          "output_type": "stream",
          "name": "stderr",
          "text": [
            "ERROR:tvDatafeed.main:Connection timed out\n",
            "ERROR:tvDatafeed.main:no data, please check the exchange and symbol\n"
          ]
        },
        {
          "output_type": "stream",
          "name": "stdout",
          "text": [
            "GOLTS - Son Fiyat: 378.00 - Dip Sinyali: False\n",
            "GOODY - Son Fiyat: 16.66 - Dip Sinyali: False\n",
            "GOZDE - Son Fiyat: 18.28 - Dip Sinyali: False\n",
            "GRNYO - Son Fiyat: 8.90 - Dip Sinyali: False\n",
            "GSDDE - Son Fiyat: 8.49 - Dip Sinyali: False\n",
            "GSDHO - Son Fiyat: 4.22 - Dip Sinyali: False\n",
            "GSRAY - Son Fiyat: 2.06 - Dip Sinyali: False\n",
            "GUBRF - Son Fiyat: 282.25 - Dip Sinyali: False\n"
          ]
        },
        {
          "output_type": "stream",
          "name": "stderr",
          "text": [
            "ERROR:tvDatafeed.main:Connection timed out\n",
            "ERROR:tvDatafeed.main:no data, please check the exchange and symbol\n",
            "ERROR:tvDatafeed.main:Connection timed out\n",
            "ERROR:tvDatafeed.main:no data, please check the exchange and symbol\n"
          ]
        },
        {
          "output_type": "stream",
          "name": "stdout",
          "text": [
            "GWIND - Son Fiyat: 23.96 - Dip Sinyali: False\n",
            "HALKB - Son Fiyat: 20.24 - Dip Sinyali: False\n",
            "HATEK - Son Fiyat: 25.62 - Dip Sinyali: False\n",
            "HDFGS - Son Fiyat: 1.24 - Dip Sinyali: False\n",
            "HEDEF - Son Fiyat: 7.95 - Dip Sinyali: False\n",
            "HEKTS - Son Fiyat: 3.10 - Dip Sinyali: False\n"
          ]
        },
        {
          "output_type": "stream",
          "name": "stderr",
          "text": [
            "ERROR:tvDatafeed.main:Connection timed out\n",
            "ERROR:tvDatafeed.main:no data, please check the exchange and symbol\n"
          ]
        },
        {
          "output_type": "stream",
          "name": "stdout",
          "text": [
            "HKTM - Son Fiyat: 11.90 - Dip Sinyali: False\n",
            "HLGYO - Son Fiyat: 2.55 - Dip Sinyali: False\n",
            "HUBVC - Son Fiyat: 1.70 - Dip Sinyali: False\n",
            "HUNER - Son Fiyat: 3.39 - Dip Sinyali: True\n"
          ]
        },
        {
          "output_type": "stream",
          "name": "stderr",
          "text": [
            "ERROR:tvDatafeed.main:Connection timed out\n",
            "ERROR:tvDatafeed.main:no data, please check the exchange and symbol\n"
          ]
        },
        {
          "output_type": "stream",
          "name": "stdout",
          "text": [
            "ICBCT - Son Fiyat: 13.01 - Dip Sinyali: False\n",
            "IDEAS - Son Fiyat: 81.45 - Dip Sinyali: True\n",
            "IDGYO - Son Fiyat: 3.08 - Dip Sinyali: False\n"
          ]
        },
        {
          "output_type": "stream",
          "name": "stderr",
          "text": [
            "ERROR:tvDatafeed.main:Connection timed out\n",
            "ERROR:tvDatafeed.main:no data, please check the exchange and symbol\n"
          ]
        },
        {
          "output_type": "stream",
          "name": "stdout",
          "text": [
            "IEYHO - Son Fiyat: 15.48 - Dip Sinyali: False\n",
            "IHEVA - Son Fiyat: 2.14 - Dip Sinyali: False\n",
            "IHLAS - Son Fiyat: 2.35 - Dip Sinyali: False\n",
            "IHLGM - Son Fiyat: 1.80 - Dip Sinyali: False\n",
            "IHLAS - Son Fiyat: 2.35 - Dip Sinyali: False\n",
            "ISCTR - Son Fiyat: 10.31 - Dip Sinyali: False\n",
            "ISGYO - Son Fiyat: 14.97 - Dip Sinyali: False\n",
            "ISMEN - Son Fiyat: 37.16 - Dip Sinyali: False\n",
            "IZFAS - Son Fiyat: 85.40 - Dip Sinyali: False\n",
            "IZINV - Son Fiyat: 48.90 - Dip Sinyali: False\n",
            "IZMDC - Son Fiyat: 5.08 - Dip Sinyali: False\n"
          ]
        },
        {
          "output_type": "stream",
          "name": "stderr",
          "text": [
            "ERROR:tvDatafeed.main:Connection timed out\n",
            "ERROR:tvDatafeed.main:no data, please check the exchange and symbol\n"
          ]
        },
        {
          "output_type": "stream",
          "name": "stdout",
          "text": [
            "KAPLM - Son Fiyat: 210.20 - Dip Sinyali: False\n",
            "KARSN - Son Fiyat: 10.74 - Dip Sinyali: False\n",
            "KATMR - Son Fiyat: 1.55 - Dip Sinyali: False\n",
            "KCHOL - Son Fiyat: 142.50 - Dip Sinyali: False\n",
            "KERVT - Son Fiyat: 16.12 - Dip Sinyali: False\n",
            "KFEIN - Son Fiyat: 111.30 - Dip Sinyali: False\n",
            "KIMMR - Son Fiyat: 10.44 - Dip Sinyali: False\n",
            "KLGYO - Son Fiyat: 4.61 - Dip Sinyali: False\n",
            "KLKIM - Son Fiyat: 30.54 - Dip Sinyali: False\n",
            "KMPUR - Son Fiyat: 15.16 - Dip Sinyali: True\n",
            "KONTR - Son Fiyat: 25.96 - Dip Sinyali: False\n",
            "KORDS - Son Fiyat: 55.50 - Dip Sinyali: False\n",
            "KOZAA - Son Fiyat: 87.10 - Dip Sinyali: False\n",
            "KOZAL - Son Fiyat: 25.84 - Dip Sinyali: False\n",
            "KRDMA - Son Fiyat: 40.36 - Dip Sinyali: False\n",
            "KRDMB - Son Fiyat: 22.20 - Dip Sinyali: False\n",
            "KRDMD - Son Fiyat: 23.90 - Dip Sinyali: False\n",
            "KRONT - Son Fiyat: 17.92 - Dip Sinyali: False\n",
            "KRSTL - Son Fiyat: 7.27 - Dip Sinyali: False\n",
            "KRVGD - Son Fiyat: 2.04 - Dip Sinyali: False\n",
            "KSTUR - Son Fiyat: 4087.50 - Dip Sinyali: False\n",
            "KUTPO - Son Fiyat: 83.10 - Dip Sinyali: False\n",
            "LIDFA - Son Fiyat: 3.63 - Dip Sinyali: False\n",
            "LINK - Son Fiyat: 525.00 - Dip Sinyali: False\n",
            "LKMNH - Son Fiyat: 16.64 - Dip Sinyali: False\n",
            "LOGO - Son Fiyat: 135.20 - Dip Sinyali: False\n",
            "LUKSK - Son Fiyat: 76.95 - Dip Sinyali: False\n",
            "MAALT - Son Fiyat: 713.00 - Dip Sinyali: False\n",
            "MAGEN - Son Fiyat: 27.72 - Dip Sinyali: False\n",
            "MAKIM - Son Fiyat: 15.98 - Dip Sinyali: False\n",
            "MARTI - Son Fiyat: 2.80 - Dip Sinyali: False\n",
            "MAVI - Son Fiyat: 33.26 - Dip Sinyali: False\n"
          ]
        },
        {
          "output_type": "stream",
          "name": "stderr",
          "text": [
            "ERROR:tvDatafeed.main:Connection timed out\n",
            "ERROR:tvDatafeed.main:no data, please check the exchange and symbol\n"
          ]
        },
        {
          "output_type": "stream",
          "name": "stdout",
          "text": [
            "MEGAP - Son Fiyat: 3.07 - Dip Sinyali: False\n",
            "MERCN - Son Fiyat: 18.55 - Dip Sinyali: False\n",
            "MERIT - Son Fiyat: 12.59 - Dip Sinyali: False\n",
            "METRO - Son Fiyat: 2.54 - Dip Sinyali: False\n",
            "METUR - Son Fiyat: 19.37 - Dip Sinyali: False\n"
          ]
        },
        {
          "output_type": "stream",
          "name": "stderr",
          "text": [
            "ERROR:tvDatafeed.main:Connection timed out\n",
            "ERROR:tvDatafeed.main:no data, please check the exchange and symbol\n"
          ]
        },
        {
          "output_type": "stream",
          "name": "stdout",
          "text": [
            "MNDTR - Son Fiyat: 5.33 - Dip Sinyali: False\n",
            "MNDRS - Son Fiyat: 9.67 - Dip Sinyali: False\n",
            "MOBTL - Son Fiyat: 7.34 - Dip Sinyali: False\n",
            "MPARK - Son Fiyat: 341.00 - Dip Sinyali: False\n"
          ]
        },
        {
          "output_type": "stream",
          "name": "stderr",
          "text": [
            "ERROR:tvDatafeed.main:Connection timed out\n",
            "ERROR:tvDatafeed.main:no data, please check the exchange and symbol\n"
          ]
        },
        {
          "output_type": "stream",
          "name": "stdout",
          "text": [
            "MRSHL - Son Fiyat: 1422.00 - Dip Sinyali: False\n",
            "MSGYO - Son Fiyat: 3.93 - Dip Sinyali: False\n",
            "MTRYO - Son Fiyat: 6.15 - Dip Sinyali: False\n",
            "NETAS - Son Fiyat: 51.50 - Dip Sinyali: False\n",
            "NIBAS - Son Fiyat: 21.26 - Dip Sinyali: False\n",
            "NUGYO - Son Fiyat: 7.63 - Dip Sinyali: False\n",
            "NUHCM - Son Fiyat: 247.30 - Dip Sinyali: False\n",
            "ODAS - Son Fiyat: 4.93 - Dip Sinyali: False\n"
          ]
        },
        {
          "output_type": "stream",
          "name": "stderr",
          "text": [
            "ERROR:tvDatafeed.main:Connection timed out\n",
            "ERROR:tvDatafeed.main:no data, please check the exchange and symbol\n",
            "ERROR:tvDatafeed.main:Connection timed out\n",
            "ERROR:tvDatafeed.main:no data, please check the exchange and symbol\n",
            "ERROR:tvDatafeed.main:Connection timed out\n",
            "ERROR:tvDatafeed.main:no data, please check the exchange and symbol\n"
          ]
        },
        {
          "output_type": "stream",
          "name": "stdout",
          "text": [
            "ORCAY - Son Fiyat: 7.94 - Dip Sinyali: False\n",
            "ORGE - Son Fiyat: 107.50 - Dip Sinyali: False\n",
            "ORMA - Son Fiyat: 170.50 - Dip Sinyali: False\n",
            "OSTIM - Son Fiyat: 4.51 - Dip Sinyali: False\n",
            "OTKAR - Son Fiyat: 396.00 - Dip Sinyali: False\n",
            "OYAKC - Son Fiyat: 22.88 - Dip Sinyali: False\n",
            "OYLUM - Son Fiyat: 7.18 - Dip Sinyali: False\n"
          ]
        },
        {
          "output_type": "stream",
          "name": "stderr",
          "text": [
            "ERROR:tvDatafeed.main:Connection timed out\n",
            "ERROR:tvDatafeed.main:no data, please check the exchange and symbol\n"
          ]
        },
        {
          "output_type": "stream",
          "name": "stdout",
          "text": [
            "OZGYO - Son Fiyat: 5.19 - Dip Sinyali: False\n",
            "OZKGY - Son Fiyat: 10.48 - Dip Sinyali: False\n",
            "PAGYO - Son Fiyat: 65.15 - Dip Sinyali: False\n",
            "PAMEL - Son Fiyat: 84.75 - Dip Sinyali: False\n"
          ]
        },
        {
          "output_type": "stream",
          "name": "stderr",
          "text": [
            "ERROR:tvDatafeed.main:Connection timed out\n",
            "ERROR:tvDatafeed.main:no data, please check the exchange and symbol\n"
          ]
        },
        {
          "output_type": "stream",
          "name": "stdout",
          "text": [
            "PARSN - Son Fiyat: 87.10 - Dip Sinyali: False\n",
            "PASEU - Son Fiyat: 68.95 - Dip Sinyali: False\n",
            "PENTA - Son Fiyat: 13.06 - Dip Sinyali: False\n",
            "PENGD - Son Fiyat: 7.86 - Dip Sinyali: False\n",
            "PETKM - Son Fiyat: 16.25 - Dip Sinyali: False\n",
            "PGSUS - Son Fiyat: 242.80 - Dip Sinyali: False\n",
            "PKART - Son Fiyat: 61.55 - Dip Sinyali: False\n",
            "PKENT - Son Fiyat: 197.60 - Dip Sinyali: False\n",
            "PLTUR - Son Fiyat: 27.86 - Dip Sinyali: False\n",
            "PRKAB - Son Fiyat: 26.42 - Dip Sinyali: False\n",
            "PRKME - Son Fiyat: 18.19 - Dip Sinyali: False\n",
            "PRZMA - Son Fiyat: 12.77 - Dip Sinyali: False\n",
            "PSGYO - Son Fiyat: 1.74 - Dip Sinyali: False\n"
          ]
        },
        {
          "output_type": "stream",
          "name": "stderr",
          "text": [
            "ERROR:tvDatafeed.main:Connection timed out\n",
            "ERROR:tvDatafeed.main:no data, please check the exchange and symbol\n"
          ]
        },
        {
          "output_type": "stream",
          "name": "stdout",
          "text": [
            "QUAGR - Son Fiyat: 5.50 - Dip Sinyali: False\n",
            "RALYH - Son Fiyat: 118.00 - Dip Sinyali: False\n",
            "RAYSG - Son Fiyat: 239.40 - Dip Sinyali: True\n",
            "REEDR - Son Fiyat: 11.33 - Dip Sinyali: False\n",
            "RODRG - Son Fiyat: 16.85 - Dip Sinyali: False\n",
            "ROYAL - Son Fiyat: 6.80 - Dip Sinyali: False\n",
            "RUBNS - Son Fiyat: 21.92 - Dip Sinyali: False\n",
            "RYSAS - Son Fiyat: 16.31 - Dip Sinyali: False\n",
            "RYGYO - Son Fiyat: 14.15 - Dip Sinyali: False\n",
            "SANEL - Son Fiyat: 25.58 - Dip Sinyali: False\n",
            "SANKO - Son Fiyat: 20.36 - Dip Sinyali: False\n",
            "SASA - Son Fiyat: 3.81 - Dip Sinyali: False\n",
            "SAYAS - Son Fiyat: 37.96 - Dip Sinyali: False\n",
            "SEKUR - Son Fiyat: 18.56 - Dip Sinyali: False\n",
            "SELEC - Son Fiyat: 69.20 - Dip Sinyali: False\n",
            "SELGD - Son Fiyat: 50.10 - Dip Sinyali: False\n",
            "SEYKM - Son Fiyat: 3.01 - Dip Sinyali: False\n",
            "SILVR - Son Fiyat: 16.50 - Dip Sinyali: False\n"
          ]
        },
        {
          "output_type": "stream",
          "name": "stderr",
          "text": [
            "ERROR:tvDatafeed.main:Connection timed out\n",
            "ERROR:tvDatafeed.main:no data, please check the exchange and symbol\n",
            "ERROR:tvDatafeed.main:Connection timed out\n",
            "ERROR:tvDatafeed.main:no data, please check the exchange and symbol\n"
          ]
        },
        {
          "output_type": "stream",
          "name": "stdout",
          "text": [
            "SKBNK - Son Fiyat: 5.17 - Dip Sinyali: False\n",
            "SKTAS - Son Fiyat: 5.57 - Dip Sinyali: False\n",
            "SMART - Son Fiyat: 26.10 - Dip Sinyali: False\n",
            "SMRTG - Son Fiyat: 30.82 - Dip Sinyali: False\n",
            "SNGYO - Son Fiyat: 3.46 - Dip Sinyali: False\n",
            "SNPAM - Son Fiyat: 59.00 - Dip Sinyali: False\n"
          ]
        },
        {
          "output_type": "stream",
          "name": "stderr",
          "text": [
            "ERROR:tvDatafeed.main:Connection timed out\n",
            "ERROR:tvDatafeed.main:no data, please check the exchange and symbol\n"
          ]
        },
        {
          "output_type": "stream",
          "name": "stdout",
          "text": [
            "SOKE - Son Fiyat: 11.01 - Dip Sinyali: False\n",
            "SOKM - Son Fiyat: 37.60 - Dip Sinyali: False\n",
            "SONME - Son Fiyat: 102.70 - Dip Sinyali: False\n"
          ]
        },
        {
          "output_type": "stream",
          "name": "stderr",
          "text": [
            "ERROR:tvDatafeed.main:Connection timed out\n",
            "ERROR:tvDatafeed.main:no data, please check the exchange and symbol\n"
          ]
        },
        {
          "output_type": "stream",
          "name": "stdout",
          "text": [
            "SRVGY - Son Fiyat: 3.11 - Dip Sinyali: False\n",
            "SUMAS - Son Fiyat: 330.00 - Dip Sinyali: False\n",
            "SUNTK - Son Fiyat: 40.32 - Dip Sinyali: False\n",
            "SUWEN - Son Fiyat: 12.88 - Dip Sinyali: False\n",
            "TATGD - Son Fiyat: 11.74 - Dip Sinyali: False\n",
            "TAVHL - Son Fiyat: 229.10 - Dip Sinyali: False\n",
            "TBORG - Son Fiyat: 173.00 - Dip Sinyali: False\n",
            "TCELL - Son Fiyat: 92.65 - Dip Sinyali: False\n"
          ]
        },
        {
          "output_type": "stream",
          "name": "stderr",
          "text": [
            "ERROR:tvDatafeed.main:Connection timed out\n",
            "ERROR:tvDatafeed.main:no data, please check the exchange and symbol\n"
          ]
        },
        {
          "output_type": "stream",
          "name": "stdout",
          "text": [
            "TEKTU - Son Fiyat: 4.41 - Dip Sinyali: False\n",
            "TEZOL - Son Fiyat: 17.18 - Dip Sinyali: False\n",
            "THYAO - Son Fiyat: 291.00 - Dip Sinyali: False\n",
            "TKFEN - Son Fiyat: 125.50 - Dip Sinyali: False\n",
            "TKNSA - Son Fiyat: 23.74 - Dip Sinyali: False\n",
            "TLMAN - Son Fiyat: 78.55 - Dip Sinyali: False\n",
            "TOASO - Son Fiyat: 200.90 - Dip Sinyali: False\n",
            "TRCAS - Son Fiyat: 27.82 - Dip Sinyali: False\n",
            "TRGYO - Son Fiyat: 60.00 - Dip Sinyali: False\n",
            "TRILC - Son Fiyat: 19.34 - Dip Sinyali: False\n"
          ]
        },
        {
          "output_type": "stream",
          "name": "stderr",
          "text": [
            "ERROR:tvDatafeed.main:Connection timed out\n",
            "ERROR:tvDatafeed.main:no data, please check the exchange and symbol\n"
          ]
        },
        {
          "output_type": "stream",
          "name": "stdout",
          "text": [
            "TSPOR - Son Fiyat: 0.90 - Dip Sinyali: False\n",
            "TTRAK - Son Fiyat: 587.00 - Dip Sinyali: False\n",
            "TUKAS - Son Fiyat: 2.65 - Dip Sinyali: False\n",
            "TUPRS - Son Fiyat: 131.40 - Dip Sinyali: False\n",
            "TURSG - Son Fiyat: 17.18 - Dip Sinyali: False\n",
            "UFUK - Son Fiyat: 855.00 - Dip Sinyali: False\n",
            "ULKER - Son Fiyat: 112.40 - Dip Sinyali: False\n",
            "VERUS - Son Fiyat: 240.00 - Dip Sinyali: False\n",
            "VESTL - Son Fiyat: 41.20 - Dip Sinyali: False\n",
            "VAKBN - Son Fiyat: 22.26 - Dip Sinyali: False\n",
            "VAKFN - Son Fiyat: 2.34 - Dip Sinyali: False\n",
            "VAKKO - Son Fiyat: 63.45 - Dip Sinyali: False\n",
            "VANGD - Son Fiyat: 33.96 - Dip Sinyali: False\n",
            "VBTYZ - Son Fiyat: 18.33 - Dip Sinyali: False\n",
            "VERTU - Son Fiyat: 32.92 - Dip Sinyali: False\n",
            "VERUS - Son Fiyat: 240.00 - Dip Sinyali: False\n",
            "VESBE - Son Fiyat: 11.50 - Dip Sinyali: False\n",
            "VESTL - Son Fiyat: 41.18 - Dip Sinyali: False\n",
            "VKFYO - Son Fiyat: 17.25 - Dip Sinyali: True\n",
            "VKGYO - Son Fiyat: 1.97 - Dip Sinyali: False\n",
            "VKING - Son Fiyat: 27.30 - Dip Sinyali: False\n",
            "VRGYO - Son Fiyat: 2.49 - Dip Sinyali: False\n",
            "YAPRK - Son Fiyat: 353.25 - Dip Sinyali: False\n",
            "YATAS - Son Fiyat: 25.12 - Dip Sinyali: False\n",
            "YAYLA - Son Fiyat: 20.34 - Dip Sinyali: False\n",
            "YBTAS - Son Fiyat: 121010.00 - Dip Sinyali: False\n",
            "YEOTK - Son Fiyat: 43.12 - Dip Sinyali: False\n",
            "YESIL - Son Fiyat: 1.39 - Dip Sinyali: True\n",
            "YGGYO - Son Fiyat: 75.80 - Dip Sinyali: False\n",
            "YGYO - Son Fiyat: 5.30 - Dip Sinyali: False\n",
            "YIGIT - Son Fiyat: 24.44 - Dip Sinyali: False\n",
            "YKBNK - Son Fiyat: 23.80 - Dip Sinyali: False\n",
            "YKSLN - Son Fiyat: 5.18 - Dip Sinyali: False\n",
            "YONGA - Son Fiyat: 59.90 - Dip Sinyali: False\n",
            "YUNSA - Son Fiyat: 5.43 - Dip Sinyali: False\n",
            "YYAPI - Son Fiyat: 1.35 - Dip Sinyali: False\n",
            "YYLGD - Son Fiyat: 10.17 - Dip Sinyali: False\n",
            "\n",
            "--- Dip Sinyali Gelen Hisseler ---\n",
            "    Hisse Adı  Son Fiyat  Dip Sinyali\n",
            "2        ADEL      31.88         True\n",
            "12      AHSGY      20.88         True\n",
            "27      ALGYO      17.53         True\n",
            "52       AVOD       2.75         True\n",
            "80      BOSSA       6.16         True\n",
            "88      BUCIM       7.54         True\n",
            "89      BURCE      13.97         True\n",
            "90      BURVA      98.15         True\n",
            "91      CANTE       1.60         True\n",
            "103     CUSAN      21.16         True\n",
            "142     ERBOS     157.30         True\n",
            "162     GARAN     100.40         True\n",
            "164     GEDZA      22.42         True\n",
            "189     HUNER       3.39         True\n",
            "191     IDEAS      81.45         True\n",
            "213     KMPUR      15.16         True\n",
            "279     RAYSG     239.40         True\n",
            "340     VKFYO      17.25         True\n",
            "349     YESIL       1.39         True\n"
          ]
        }
      ],
      "source": [
        "# Gerekli kütüphaneleri yükle\n",
        "!pip install git+https://github.com/rongardF/tvdatafeed --quiet\n",
        "\n",
        "import numpy as np\n",
        "import pandas as pd\n",
        "from tvDatafeed import TvDatafeed, Interval\n",
        "import warnings\n",
        "\n",
        "warnings.simplefilter(action='ignore')\n",
        "\n",
        "# Basit Hareketli Ortalama\n",
        "def sma(series, length):\n",
        "    return series.rolling(window=length).mean()\n",
        "\n",
        "# Üssel Hareketli Ortalama\n",
        "def ema(series, length):\n",
        "    return series.ewm(span=length, adjust=False).mean()\n",
        "\n",
        "# Bankery Stratejisi\n",
        "def Bankery(data):\n",
        "    df = data.copy()\n",
        "    close_minus_rolling_min = df['close'] - df['low'].rolling(window=27).min()\n",
        "    percentage_change = close_minus_rolling_min / (df['high'].rolling(window=27).max() - df['low'].rolling(window=27).min()) * 100\n",
        "\n",
        "    sma1 = sma(percentage_change, 5)\n",
        "    sma2 = sma(sma1, 3)\n",
        "\n",
        "    fundtrend = (3 * sma1 - 2 * sma2 - 50) * 1.032 + 50\n",
        "\n",
        "    typ = (2 * df['close'] + df['high'] + df['low'] + df['open']) / 5\n",
        "    lol = df['low'].rolling(window=34).min()\n",
        "    hoh = df['high'].rolling(window=34).max()\n",
        "    bullbearline = ema((typ - lol) / (hoh - lol) * 100, 13)\n",
        "\n",
        "    bankerentry = (fundtrend > bullbearline) & (bullbearline < 25)\n",
        "    df['Entry'] = bankerentry.fillna(False)\n",
        "    return df\n",
        "\n",
        "# TV login (anonim de çalışır)\n",
        "tv = TvDatafeed()\n",
        "\n",
        "# Manuel olarak BIST hisseleri listesi (örnek olarak BIST30 hisseleri girildi)\n",
        "Hisseler = [\n",
        "    'A1CAP', 'ACSEL', 'ADEL', 'ADESE', 'ADGYO', 'AEFES', 'AFYON', 'AGESA', 'AGHOL', 'AGROT',\n",
        "    'AGYO', 'AHGAZ', 'AHSGY', 'AKBNK', 'AKCNS', 'AKENR', 'AKFGY', 'AKGRT', 'AKMGY', 'AKSA',\n",
        "    'AKSEN', 'AKSGY', 'AKYHO', 'ALARK', 'ALBRK', 'ALCAR', 'ALCTL', 'ALGYO', 'ALKA', 'ALKIM',\n",
        "    'ALMAD', 'ALNTF', 'ALYAG', 'ANACM', 'ANELE', 'ANGEN', 'ANHYT', 'ANSGR', 'ARASE', 'ARCLK',\n",
        "    'ARDYZ', 'ARENA', 'ARMDA', 'ARSAN', 'ARTMS', 'ARZUM', 'ASELS', 'ASGYO', 'ASUZU', 'ATAGY',\n",
        "    'ATATP', 'ATEKS', 'ATLAS', 'ATSYH', 'AVHOL', 'AVGYO', 'AVOD', 'AVTUR', 'AYCES', 'AYDEM',\n",
        "    'AYEN', 'AYES', 'AYGAZ', 'AZTEK', 'BAGFS', 'BAKAB', 'BALAT', 'BANVT', 'BARMA', 'BASCM',\n",
        "    'BASGZ', 'BAYRK', 'BERA', 'BERK', 'BEYAZ', 'BFREN', 'BGCYO', 'BIMAS', 'BIOEN', 'BIZIM',\n",
        "    'BJKAS', 'BLCYT', 'BLGYO', 'BMSCH', 'BMSTL', 'BNTAS', 'BOBET', 'BOSSA', 'BRISA', 'BRKSN',\n",
        "    'BRLSM', 'BRMEN', 'BRYAT', 'BSOKE', 'BTCIM', 'BUCIM', 'BUDAS', 'BURCE', 'BURVA', 'CANTE',\n",
        "    'CARFA', 'CASA', 'CCOLA', 'CELHA', 'CEMAS', 'CEMTS', 'CIMSA', 'CMENT', 'CMBTN', 'COSMO',\n",
        "    'CRDFA', 'CRFSA', 'CUSAN', 'CWENE', 'DAPGM', 'DARDL', 'DENGE', 'DERHL', 'DERIM', 'DESA',\n",
        "    'DEVA', 'DGATE', 'DGGYO', 'DGKLB', 'DGNMO', 'DGNYO', 'DGRTR', 'DGSER', 'DGUY', 'DHA',\n",
        "    'DIRIT', 'DITAS', 'DNISI', 'DOAS', 'DOBUR', 'DOGUB', 'DOHOL', 'DOMINO', 'DURDO', 'DYOBY',\n",
        "    'DZGYO', 'ECILC', 'ECZYT', 'EDATA', 'EDIP', 'EGEEN', 'EGGUB', 'EGPRO', 'EGSER', 'EİS',\n",
        "    'EKGYO', 'EKIZ', 'ELITE', 'ELMAS', 'EMKEL', 'EMNIS', 'ENKAI', 'ENJSA', 'ENSRI', 'EPLAS',\n",
        "    'ERBOS', 'EREGL', 'ERSU', 'ESCAR', 'ESCOM', 'ESEN', 'ESKOM', 'ETILR', 'EUHOL', 'EUKYO',\n",
        "    'EYGYO', 'FADE', 'FENER', 'FENIS', 'FLAP', 'FLMNC', 'FMIZP', 'FONET', 'FORMT', 'FORTE',\n",
        "    'FRIGO', 'FROTO', 'FZLGY', 'GARAN', 'GATEK', 'GEDIK', 'GEDZA', 'GENTS', 'GEREL', 'GESAN',\n",
        "    'GIPTA', 'GLBMD', 'GLRYH', 'GLYHO', 'GMAKT', 'GOLTS', 'GOODY', 'GOZDE', 'GRNYO', 'GSDDE',\n",
        "    'GSDHO', 'GSRAY', 'GUBRF', 'GUHEM', 'GUSGR', 'GWIND', 'HALKB', 'HATEK', 'HDFGS', 'HEDEF',\n",
        "    'HEKTS', 'HGGYO', 'HKTM', 'HLGYO', 'HUBVC', 'HUNER', 'HURC', 'ICBCT', 'IDEAS', 'IDGYO',\n",
        "    'IDTUR', 'IEYHO', 'IHEVA', 'IHLAS', 'IHLGM', 'IHLAS', 'ISCTR', 'ISGYO', 'ISMEN', 'IZFAS', 'IZINV', 'IZMDC', 'IZTAR', 'KAPLM', 'KARSN', 'KATMR',\n",
        "    'KCHOL', 'KERVT', 'KFEIN', 'KIMMR', 'KLGYO', 'KLKIM', 'KMPUR', 'KONTR', 'KORDS', 'KOZAA',\n",
        "    'KOZAL', 'KRDMA', 'KRDMB', 'KRDMD', 'KRONT', 'KRSTL', 'KRVGD', 'KSTUR', 'KUTPO', 'LIDFA',\n",
        "    'LINK', 'LKMNH', 'LOGO', 'LUKSK', 'MAALT', 'MAGEN', 'MAKIM', 'MARTI', 'MAVI', 'MBAS',\n",
        "    'MEGAP', 'MERCN', 'MERIT', 'METRO', 'METUR', 'MIPAZ', 'MNDTR', 'MNDRS', 'MOBTL', 'MPARK',\n",
        "    'MRDIN', 'MRSHL', 'MSGYO', 'MTRYO', 'NETAS', 'NIBAS', 'NUGYO', 'NUHCM', 'ODAS', 'OFGYO',\n",
        "    'OHEVA', 'OLMIP', 'ORCAY', 'ORGE', 'ORMA', 'OSTIM', 'OTKAR', 'OYAKC', 'OYLUM', 'OZBAL',\n",
        "    'OZGYO', 'OZKGY', 'PAGYO', 'PAMEL', 'PAMSU', 'PARSN', 'PASEU', 'PENTA', 'PENGD', 'PETKM',\n",
        "    'PGSUS', 'PKART', 'PKENT', 'PLTUR', 'PRKAB', 'PRKME', 'PRZMA', 'PSGYO', 'QNBFB', 'QUAGR',\n",
        "    'RALYH', 'RAYSG', 'REEDR', 'RODRG', 'ROYAL', 'RUBNS', 'RYSAS', 'RYGYO', 'SANEL', 'SANKO',\n",
        "    'SASA', 'SAYAS', 'SEKUR', 'SELEC', 'SELGD', 'SEYKM', 'SILVR', 'SIMEK', 'SINMA', 'SKBNK',\n",
        "    'SKTAS', 'SMART', 'SMRTG', 'SNGYO', 'SNPAM', 'SODA', 'SOKE', 'SOKM', 'SONME', 'SPEAS',\n",
        "    'SRVGY', 'SUMAS', 'SUNTK', 'SUWEN', 'TATGD', 'TAVHL', 'TBORG', 'TCELL', 'TCHOL', 'TEKTU',\n",
        "    'TEZOL', 'THYAO', 'TKFEN', 'TKNSA', 'TLMAN', 'TOASO', 'TRCAS', 'TRGYO', 'TRILC', 'TRKCM',\n",
        "    'TSPOR', 'TTRAK', 'TUKAS', 'TUPRS', 'TURSG', 'UFUK', 'ULKER', 'VERUS', 'VESTL', 'VAKBN', 'VAKFN', 'VAKKO', 'VANGD', 'VBTYZ', 'VERTU', 'VERUS', 'VESBE', 'VESTL', 'VKFYO', 'VKGYO', 'VKING', 'VRGYO', 'YAPRK', 'YATAS', 'YAYLA', 'YBTAS', 'YEOTK', 'YESIL', 'YGGYO', 'YGYO', 'YIGIT', 'YKBNK', 'YKSLN', 'YONGA', 'YUNSA', 'YYAPI', 'YYLGD'\n",
        "]\n",
        "\n",
        "# Raporlama DataFrame\n",
        "Titles = ['Hisse Adı', 'Son Fiyat', 'Dip Sinyali']\n",
        "df_signals = pd.DataFrame(columns=Titles)\n",
        "\n",
        "# Tüm hisselerde Bankery kontrolü\n",
        "for hisse in Hisseler:\n",
        "    try:\n",
        "        data = tv.get_hist(symbol=hisse, exchange='BIST', interval=Interval.in_4_hour, n_bars=100)\n",
        "        if data is None or data.empty:\n",
        "            continue\n",
        "\n",
        "        data = data.reset_index()\n",
        "        Banker = Bankery(data)\n",
        "        Banker.rename(columns={'open': 'Open', 'high': 'High', 'low': 'Low', 'close': 'Close', 'volume': 'Volume'}, inplace=True)\n",
        "        Banker.set_index('datetime', inplace=True)\n",
        "\n",
        "        Signals = Banker.tail(2).reset_index()\n",
        "        Entry = (Signals.loc[0, 'Entry'] == False) and (Signals.loc[1, 'Entry'] == True)\n",
        "        Last_Price = Signals.loc[1, 'Close']\n",
        "\n",
        "        df_signals.loc[len(df_signals)] = [hisse, Last_Price, Entry]\n",
        "        print(f\"{hisse} - Son Fiyat: {Last_Price:.2f} - Dip Sinyali: {Entry}\")\n",
        "\n",
        "    except Exception as e:\n",
        "        print(f\"Hata oluştu: {hisse} - {e}\")\n",
        "        continue\n",
        "\n",
        "# Sadece sinyal gelenleri göster\n",
        "df_True = df_signals[df_signals['Dip Sinyali'] == True]\n",
        "print(\"\\n--- Dip Sinyali Gelen Hisseler ---\")\n",
        "print(df_True)\n"
      ]
    },
    {
      "source": [
        "!pip install tradingview-ta\n",
        "from tradingview_ta import TA_Handler, Interval, Exchange\n",
        "# ... (rest of the code) ...\n",
        "\n",
        "tv = TvDatafeed()\n",
        "handler = TA_Handler(\n",
        "    symbol=\"US500\",\n",
        "    screener=\"america\",\n",
        "    exchange=\"CME\",\n",
        "    interval=Interval.INTERVAL_1_HOUR\n",
        ")\n",
        "\n",
        "Hisseler = handler.get_analysis().summary\n",
        "# Assuming 'Hisseler' is a list of symbols, proceed with your analysis\n",
        "\n",
        "# ... (rest of your code) ..."
      ],
      "cell_type": "code",
      "metadata": {
        "colab": {
          "base_uri": "https://localhost:8080/",
          "height": 567
        },
        "id": "Pos4jCPmy3H3",
        "outputId": "d8235cd8-553c-4680-a63c-3e4f765c4d27"
      },
      "execution_count": null,
      "outputs": [
        {
          "output_type": "stream",
          "name": "stdout",
          "text": [
            "Collecting tradingview-ta\n",
            "  Downloading tradingview_ta-3.3.0-py3-none-any.whl.metadata (4.6 kB)\n",
            "Requirement already satisfied: requests in /usr/local/lib/python3.11/dist-packages (from tradingview-ta) (2.32.3)\n",
            "Requirement already satisfied: charset-normalizer<4,>=2 in /usr/local/lib/python3.11/dist-packages (from requests->tradingview-ta) (3.4.1)\n",
            "Requirement already satisfied: idna<4,>=2.5 in /usr/local/lib/python3.11/dist-packages (from requests->tradingview-ta) (3.10)\n",
            "Requirement already satisfied: urllib3<3,>=1.21.1 in /usr/local/lib/python3.11/dist-packages (from requests->tradingview-ta) (2.4.0)\n",
            "Requirement already satisfied: certifi>=2017.4.17 in /usr/local/lib/python3.11/dist-packages (from requests->tradingview-ta) (2025.4.26)\n",
            "Downloading tradingview_ta-3.3.0-py3-none-any.whl (10 kB)\n",
            "Installing collected packages: tradingview-ta\n",
            "Successfully installed tradingview-ta-3.3.0\n"
          ]
        },
        {
          "output_type": "stream",
          "name": "stderr",
          "text": [
            "WARNING:tvDatafeed.main:you are using nologin method, data you access may be limited\n"
          ]
        },
        {
          "output_type": "error",
          "ename": "Exception",
          "evalue": "Exchange or symbol not found.",
          "traceback": [
            "\u001b[0;31m---------------------------------------------------------------------------\u001b[0m",
            "\u001b[0;31mException\u001b[0m                                 Traceback (most recent call last)",
            "\u001b[0;32m<ipython-input-3-0278896312c1>\u001b[0m in \u001b[0;36m<cell line: 0>\u001b[0;34m()\u001b[0m\n\u001b[1;32m     11\u001b[0m )\n\u001b[1;32m     12\u001b[0m \u001b[0;34m\u001b[0m\u001b[0m\n\u001b[0;32m---> 13\u001b[0;31m \u001b[0mHisseler\u001b[0m \u001b[0;34m=\u001b[0m \u001b[0mhandler\u001b[0m\u001b[0;34m.\u001b[0m\u001b[0mget_analysis\u001b[0m\u001b[0;34m(\u001b[0m\u001b[0;34m)\u001b[0m\u001b[0;34m.\u001b[0m\u001b[0msummary\u001b[0m\u001b[0;34m\u001b[0m\u001b[0;34m\u001b[0m\u001b[0m\n\u001b[0m\u001b[1;32m     14\u001b[0m \u001b[0;31m# Assuming 'Hisseler' is a list of symbols, proceed with your analysis\u001b[0m\u001b[0;34m\u001b[0m\u001b[0;34m\u001b[0m\u001b[0m\n\u001b[1;32m     15\u001b[0m \u001b[0;34m\u001b[0m\u001b[0m\n",
            "\u001b[0;32m/usr/local/lib/python3.11/dist-packages/tradingview_ta/main.py\u001b[0m in \u001b[0;36mget_analysis\u001b[0;34m(self)\u001b[0m\n\u001b[1;32m    385\u001b[0m         \"\"\"\n\u001b[1;32m    386\u001b[0m \u001b[0;34m\u001b[0m\u001b[0m\n\u001b[0;32m--> 387\u001b[0;31m         \u001b[0;32mreturn\u001b[0m \u001b[0mcalculate\u001b[0m\u001b[0;34m(\u001b[0m\u001b[0mindicators\u001b[0m\u001b[0;34m=\u001b[0m\u001b[0mself\u001b[0m\u001b[0;34m.\u001b[0m\u001b[0mget_indicators\u001b[0m\u001b[0;34m(\u001b[0m\u001b[0;34m)\u001b[0m\u001b[0;34m,\u001b[0m \u001b[0mindicators_key\u001b[0m\u001b[0;34m=\u001b[0m\u001b[0mself\u001b[0m\u001b[0;34m.\u001b[0m\u001b[0mindicators\u001b[0m\u001b[0;34m,\u001b[0m \u001b[0mscreener\u001b[0m\u001b[0;34m=\u001b[0m\u001b[0mself\u001b[0m\u001b[0;34m.\u001b[0m\u001b[0mscreener\u001b[0m\u001b[0;34m,\u001b[0m \u001b[0msymbol\u001b[0m\u001b[0;34m=\u001b[0m\u001b[0mself\u001b[0m\u001b[0;34m.\u001b[0m\u001b[0msymbol\u001b[0m\u001b[0;34m,\u001b[0m \u001b[0mexchange\u001b[0m\u001b[0;34m=\u001b[0m\u001b[0mself\u001b[0m\u001b[0;34m.\u001b[0m\u001b[0mexchange\u001b[0m\u001b[0;34m,\u001b[0m \u001b[0minterval\u001b[0m\u001b[0;34m=\u001b[0m\u001b[0mself\u001b[0m\u001b[0;34m.\u001b[0m\u001b[0minterval\u001b[0m\u001b[0;34m)\u001b[0m\u001b[0;34m\u001b[0m\u001b[0;34m\u001b[0m\u001b[0m\n\u001b[0m\u001b[1;32m    388\u001b[0m \u001b[0;34m\u001b[0m\u001b[0m\n\u001b[1;32m    389\u001b[0m \u001b[0;34m\u001b[0m\u001b[0m\n",
            "\u001b[0;32m/usr/local/lib/python3.11/dist-packages/tradingview_ta/main.py\u001b[0m in \u001b[0;36mget_indicators\u001b[0;34m(self, indicators)\u001b[0m\n\u001b[1;32m    366\u001b[0m             \u001b[0;32mreturn\u001b[0m \u001b[0mindicators_val\u001b[0m\u001b[0;34m\u001b[0m\u001b[0;34m\u001b[0m\u001b[0m\n\u001b[1;32m    367\u001b[0m         \u001b[0;32melse\u001b[0m\u001b[0;34m:\u001b[0m\u001b[0;34m\u001b[0m\u001b[0;34m\u001b[0m\u001b[0m\n\u001b[0;32m--> 368\u001b[0;31m             \u001b[0;32mraise\u001b[0m \u001b[0mException\u001b[0m\u001b[0;34m(\u001b[0m\u001b[0;34m\"Exchange or symbol not found.\"\u001b[0m\u001b[0;34m)\u001b[0m\u001b[0;34m\u001b[0m\u001b[0;34m\u001b[0m\u001b[0m\n\u001b[0m\u001b[1;32m    369\u001b[0m \u001b[0;34m\u001b[0m\u001b[0m\n\u001b[1;32m    370\u001b[0m     \u001b[0;31m# Add custom indicators\u001b[0m\u001b[0;34m\u001b[0m\u001b[0;34m\u001b[0m\u001b[0m\n",
            "\u001b[0;31mException\u001b[0m: Exchange or symbol not found."
          ]
        }
      ]
    },
    {
      "cell_type": "markdown",
      "metadata": {
        "id": "3wF5wszaj97Y"
      },
      "source": [
        "# TensorFlow 2 quickstart for beginners"
      ]
    },
    {
      "cell_type": "markdown",
      "metadata": {
        "id": "DUNzJc4jTj6G"
      },
      "source": [
        "<table class=\"tfo-notebook-buttons\" align=\"left\">\n",
        "  <td>\n",
        "    <a target=\"_blank\" href=\"https://www.tensorflow.org/tutorials/quickstart/beginner\"><img src=\"https://www.tensorflow.org/images/tf_logo_32px.png\" />View on TensorFlow.org</a>\n",
        "  </td>\n",
        "  <td>\n",
        "    <a target=\"_blank\" href=\"https://colab.research.google.com/github/tensorflow/docs/blob/master/site/en/tutorials/quickstart/beginner.ipynb\"><img src=\"https://www.tensorflow.org/images/colab_logo_32px.png\" />Run in Google Colab</a>\n",
        "  </td>\n",
        "  <td>\n",
        "    <a target=\"_blank\" href=\"https://github.com/tensorflow/docs/blob/master/site/en/tutorials/quickstart/beginner.ipynb\"><img src=\"https://www.tensorflow.org/images/GitHub-Mark-32px.png\" />View source on GitHub</a>\n",
        "  </td>\n",
        "  <td>\n",
        "    <a href=\"https://storage.googleapis.com/tensorflow_docs/docs/site/en/tutorials/quickstart/beginner.ipynb\"><img src=\"https://www.tensorflow.org/images/download_logo_32px.png\" />Download notebook</a>\n",
        "  </td>\n",
        "</table>"
      ]
    },
    {
      "cell_type": "markdown",
      "metadata": {
        "id": "04QgGZc9bF5D"
      },
      "source": [
        "This short introduction uses [Keras](https://www.tensorflow.org/guide/keras/overview) to:\n",
        "\n",
        "1. Load a prebuilt dataset.\n",
        "1. Build a neural network machine learning model that classifies images.\n",
        "2. Train this neural network.\n",
        "3. Evaluate the accuracy of the model."
      ]
    },
    {
      "cell_type": "markdown",
      "metadata": {
        "id": "hiH7AC-NTniF"
      },
      "source": [
        "This tutorial is a [Google Colaboratory](https://colab.research.google.com/notebooks/welcome.ipynb) notebook. Python programs are run directly in the browser—a great way to learn and use TensorFlow. To follow this tutorial, run the notebook in Google Colab by clicking the button at the top of this page.\n",
        "\n",
        "1. In Colab, connect to a Python runtime: At the top-right of the menu bar, select *CONNECT*.\n",
        "2. To run all the code in the notebook, select **Runtime** > **Run all**. To run the code cells one at a time, hover over each cell and select the **Run cell** icon.\n",
        "\n",
        "![Run cell icon](https://github.com/tensorflow/docs/blob/master/site/en/tutorials/quickstart/images/beginner/run_cell_icon.png?raw=1)"
      ]
    },
    {
      "cell_type": "markdown",
      "metadata": {
        "id": "nnrWf3PCEzXL"
      },
      "source": [
        "## Set up TensorFlow\n",
        "\n",
        "Import TensorFlow into your program to get started:"
      ]
    },
    {
      "cell_type": "code",
      "execution_count": null,
      "metadata": {
        "id": "0trJmd6DjqBZ"
      },
      "outputs": [],
      "source": [
        "import tensorflow as tf\n",
        "print(\"TensorFlow version:\", tf.__version__)"
      ]
    },
    {
      "cell_type": "markdown",
      "metadata": {
        "id": "7NAbSZiaoJ4z"
      },
      "source": [
        "If you are following along in your own development environment, rather than [Colab](https://colab.research.google.com/github/tensorflow/docs/blob/master/site/en/tutorials/quickstart/beginner.ipynb), see the [install guide](https://www.tensorflow.org/install) for setting up TensorFlow for development.\n",
        "\n",
        "Note: Make sure you have upgraded to the latest `pip` to install the TensorFlow 2 package if you are using your own development environment. See the [install guide](https://www.tensorflow.org/install) for details.\n",
        "\n",
        "## Load a dataset\n",
        "\n",
        "Load and prepare the MNIST dataset. The pixel values of the images range from 0 through 255. Scale these values to a range of 0 to 1 by dividing the values by `255.0`. This also converts the sample data from integers to floating-point numbers:"
      ]
    },
    {
      "cell_type": "code",
      "execution_count": null,
      "metadata": {
        "id": "7FP5258xjs-v"
      },
      "outputs": [],
      "source": [
        "mnist = tf.keras.datasets.mnist\n",
        "\n",
        "(x_train, y_train), (x_test, y_test) = mnist.load_data()\n",
        "x_train, x_test = x_train / 255.0, x_test / 255.0"
      ]
    },
    {
      "cell_type": "markdown",
      "metadata": {
        "id": "BPZ68wASog_I"
      },
      "source": [
        "## Build a machine learning model\n",
        "\n",
        "Build a `tf.keras.Sequential` model:"
      ]
    },
    {
      "cell_type": "code",
      "execution_count": null,
      "metadata": {
        "id": "h3IKyzTCDNGo"
      },
      "outputs": [],
      "source": [
        "model = tf.keras.models.Sequential([\n",
        "  tf.keras.layers.Flatten(input_shape=(28, 28)),\n",
        "  tf.keras.layers.Dense(128, activation='relu'),\n",
        "  tf.keras.layers.Dropout(0.2),\n",
        "  tf.keras.layers.Dense(10)\n",
        "])"
      ]
    },
    {
      "cell_type": "markdown",
      "metadata": {
        "id": "l2hiez2eIUz8"
      },
      "source": [
        "[`Sequential`](https://www.tensorflow.org/guide/keras/sequential_model) is useful for stacking layers where each layer has one input [tensor](https://www.tensorflow.org/guide/tensor) and one output tensor. Layers are functions with a known mathematical structure that can be reused and have trainable variables. Most TensorFlow models are composed of layers. This model uses the [`Flatten`](https://www.tensorflow.org/api_docs/python/tf/keras/layers/Flatten), [`Dense`](https://www.tensorflow.org/api_docs/python/tf/keras/layers/Dense), and [`Dropout`](https://www.tensorflow.org/api_docs/python/tf/keras/layers/Dropout) layers.\n",
        "\n",
        "For each example, the model returns a vector of [logits](https://developers.google.com/machine-learning/glossary#logits) or [log-odds](https://developers.google.com/machine-learning/glossary#log-odds) scores, one for each class."
      ]
    },
    {
      "cell_type": "code",
      "execution_count": null,
      "metadata": {
        "id": "OeOrNdnkEEcR"
      },
      "outputs": [],
      "source": [
        "predictions = model(x_train[:1]).numpy()\n",
        "predictions"
      ]
    },
    {
      "cell_type": "markdown",
      "metadata": {
        "id": "tgjhDQGcIniO"
      },
      "source": [
        "The `tf.nn.softmax` function converts these logits to *probabilities* for each class:"
      ]
    },
    {
      "cell_type": "code",
      "execution_count": null,
      "metadata": {
        "id": "zWSRnQ0WI5eq"
      },
      "outputs": [],
      "source": [
        "tf.nn.softmax(predictions).numpy()"
      ]
    },
    {
      "cell_type": "markdown",
      "metadata": {
        "id": "he5u_okAYS4a"
      },
      "source": [
        "Note: It is possible to bake the `tf.nn.softmax` function into the activation function for the last layer of the network. While this can make the model output more directly interpretable, this approach is discouraged as it's impossible to provide an exact and numerically stable loss calculation for all models when using a softmax output."
      ]
    },
    {
      "cell_type": "markdown",
      "metadata": {
        "id": "hQyugpgRIyrA"
      },
      "source": [
        "Define a loss function for training using `losses.SparseCategoricalCrossentropy`:"
      ]
    },
    {
      "cell_type": "code",
      "execution_count": null,
      "metadata": {
        "id": "RSkzdv8MD0tT"
      },
      "outputs": [],
      "source": [
        "loss_fn = tf.keras.losses.SparseCategoricalCrossentropy(from_logits=True)"
      ]
    },
    {
      "cell_type": "markdown",
      "metadata": {
        "id": "SfR4MsSDU880"
      },
      "source": [
        "The loss function takes a vector of ground truth values and a vector of logits and returns a scalar loss for each example. This loss is equal to the negative log probability of the true class: The loss is zero if the model is sure of the correct class.\n",
        "\n",
        "This untrained model gives probabilities close to random (1/10 for each class), so the initial loss should be close to `-tf.math.log(1/10) ~= 2.3`."
      ]
    },
    {
      "cell_type": "code",
      "execution_count": null,
      "metadata": {
        "id": "NJWqEVrrJ7ZB"
      },
      "outputs": [],
      "source": [
        "loss_fn(y_train[:1], predictions).numpy()"
      ]
    },
    {
      "cell_type": "markdown",
      "metadata": {
        "id": "ada44eb947d4"
      },
      "source": [
        "Before you start training, configure and compile the model using Keras `Model.compile`. Set the [`optimizer`](https://www.tensorflow.org/api_docs/python/tf/keras/optimizers) class to `adam`, set the `loss` to the `loss_fn` function you defined earlier, and specify a metric to be evaluated for the model by setting the `metrics` parameter to `accuracy`."
      ]
    },
    {
      "cell_type": "code",
      "execution_count": null,
      "metadata": {
        "id": "9foNKHzTD2Vo"
      },
      "outputs": [],
      "source": [
        "model.compile(optimizer='adam',\n",
        "              loss=loss_fn,\n",
        "              metrics=['accuracy'])"
      ]
    },
    {
      "cell_type": "markdown",
      "metadata": {
        "id": "ix4mEL65on-w"
      },
      "source": [
        "## Train and evaluate your model\n",
        "\n",
        "Use the `Model.fit` method to adjust your model parameters and minimize the loss:"
      ]
    },
    {
      "cell_type": "code",
      "execution_count": null,
      "metadata": {
        "id": "y7suUbJXVLqP"
      },
      "outputs": [],
      "source": [
        "model.fit(x_train, y_train, epochs=5)"
      ]
    },
    {
      "cell_type": "markdown",
      "metadata": {
        "id": "4mDAAPFqVVgn"
      },
      "source": [
        "The `Model.evaluate` method checks the model's performance, usually on a [validation set](https://developers.google.com/machine-learning/glossary#validation-set) or [test set](https://developers.google.com/machine-learning/glossary#test-set)."
      ]
    },
    {
      "cell_type": "code",
      "execution_count": null,
      "metadata": {
        "id": "F7dTAzgHDUh7"
      },
      "outputs": [],
      "source": [
        "model.evaluate(x_test,  y_test, verbose=2)"
      ]
    },
    {
      "cell_type": "markdown",
      "metadata": {
        "id": "T4JfEh7kvx6m"
      },
      "source": [
        "The image classifier is now trained to ~98% accuracy on this dataset. To learn more, read the [TensorFlow tutorials](https://www.tensorflow.org/tutorials/)."
      ]
    },
    {
      "cell_type": "markdown",
      "metadata": {
        "id": "Aj8NrlzlJqDG"
      },
      "source": [
        "If you want your model to return a probability, you can wrap the trained model, and attach the softmax to it:"
      ]
    },
    {
      "cell_type": "code",
      "execution_count": null,
      "metadata": {
        "id": "rYb6DrEH0GMv"
      },
      "outputs": [],
      "source": [
        "probability_model = tf.keras.Sequential([\n",
        "  model,\n",
        "  tf.keras.layers.Softmax()\n",
        "])"
      ]
    },
    {
      "cell_type": "code",
      "execution_count": null,
      "metadata": {
        "id": "cnqOZtUp1YR_"
      },
      "outputs": [],
      "source": [
        "probability_model(x_test[:5])"
      ]
    },
    {
      "cell_type": "markdown",
      "metadata": {
        "id": "-47O6_GLdRuT"
      },
      "source": [
        "## Conclusion\n",
        "\n",
        "Congratulations! You have trained a machine learning model using a prebuilt dataset using the [Keras](https://www.tensorflow.org/guide/keras/overview) API.\n",
        "\n",
        "For more examples of using Keras, check out the [tutorials](https://www.tensorflow.org/tutorials/keras/). To learn more about building models with Keras, read the [guides](https://www.tensorflow.org/guide/keras). If you want learn more about loading and preparing data, see the tutorials on [image data loading](https://www.tensorflow.org/tutorials/load_data/images) or [CSV data loading](https://www.tensorflow.org/tutorials/load_data/csv).\n"
      ]
    }
  ],
  "metadata": {
    "colab": {
      "provenance": [],
      "include_colab_link": true
    },
    "kernelspec": {
      "display_name": "Python 3",
      "name": "python3"
    }
  },
  "nbformat": 4,
  "nbformat_minor": 0
}